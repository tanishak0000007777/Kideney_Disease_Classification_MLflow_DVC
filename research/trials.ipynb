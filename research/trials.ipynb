{
 "cells": [
  {
   "metadata": {
    "ExecuteTime": {
     "end_time": "2025-10-23T08:03:08.887433Z",
     "start_time": "2025-10-23T08:03:08.882962Z"
    }
   },
   "cell_type": "code",
   "source": [
    "#confif box\n",
    "d={\"key1\":\"val1\",\"key2\":\"val2\"}"
   ],
   "id": "a978be68a6b41dfe",
   "outputs": [],
   "execution_count": 4
  },
  {
   "metadata": {
    "ExecuteTime": {
     "end_time": "2025-10-23T08:03:13.869067Z",
     "start_time": "2025-10-23T08:03:13.861715Z"
    }
   },
   "cell_type": "code",
   "source": "d['key1']",
   "id": "38627e95a32bbcd6",
   "outputs": [
    {
     "data": {
      "text/plain": [
       "'val1'"
      ]
     },
     "execution_count": 5,
     "metadata": {},
     "output_type": "execute_result"
    }
   ],
   "execution_count": 5
  },
  {
   "metadata": {
    "ExecuteTime": {
     "end_time": "2025-10-23T08:03:35.486302Z",
     "start_time": "2025-10-23T08:03:35.188956Z"
    }
   },
   "cell_type": "code",
   "source": "d.key1",
   "id": "4de53007954c9d23",
   "outputs": [
    {
     "ename": "AttributeError",
     "evalue": "'dict' object has no attribute 'key1'",
     "output_type": "error",
     "traceback": [
      "\u001B[31m---------------------------------------------------------------------------\u001B[39m",
      "\u001B[31mAttributeError\u001B[39m                            Traceback (most recent call last)",
      "\u001B[36mCell\u001B[39m\u001B[36m \u001B[39m\u001B[32mIn[6]\u001B[39m\u001B[32m, line 1\u001B[39m\n\u001B[32m----> \u001B[39m\u001B[32m1\u001B[39m \u001B[43md\u001B[49m\u001B[43m.\u001B[49m\u001B[43mkey1\u001B[49m\n",
      "\u001B[31mAttributeError\u001B[39m: 'dict' object has no attribute 'key1'"
     ]
    }
   ],
   "execution_count": 6
  },
  {
   "metadata": {
    "ExecuteTime": {
     "end_time": "2025-10-23T08:07:03.412859Z",
     "start_time": "2025-10-23T08:07:03.325542Z"
    }
   },
   "cell_type": "code",
   "source": [
    "from box import ConfigBox\n",
    "d={\"key1\":\"val1\",\"key2\":\"val2\"}"
   ],
   "id": "5bf58a02e25f3843",
   "outputs": [],
   "execution_count": 2
  },
  {
   "metadata": {
    "ExecuteTime": {
     "end_time": "2025-10-23T08:08:17.825782Z",
     "start_time": "2025-10-23T08:08:17.817436Z"
    }
   },
   "cell_type": "code",
   "source": "d2=ConfigBox({\"key1\":\"val1\",\"key2\":\"val2\"})",
   "id": "bf09e8e98401733f",
   "outputs": [],
   "execution_count": 4
  },
  {
   "metadata": {
    "ExecuteTime": {
     "end_time": "2025-10-23T08:08:32.067829Z",
     "start_time": "2025-10-23T08:08:32.035723Z"
    }
   },
   "cell_type": "code",
   "source": "d2.key1",
   "id": "763ff2cddffeb6b",
   "outputs": [
    {
     "data": {
      "text/plain": [
       "'val1'"
      ]
     },
     "execution_count": 5,
     "metadata": {},
     "output_type": "execute_result"
    }
   ],
   "execution_count": 5
  },
  {
   "metadata": {
    "ExecuteTime": {
     "end_time": "2025-10-23T08:09:02.739315Z",
     "start_time": "2025-10-23T08:09:02.733028Z"
    }
   },
   "cell_type": "code",
   "source": "type(d2)",
   "id": "1d81dcb6c014c9d5",
   "outputs": [
    {
     "data": {
      "text/plain": [
       "box.config_box.ConfigBox"
      ]
     },
     "execution_count": 6,
     "metadata": {},
     "output_type": "execute_result"
    }
   ],
   "execution_count": 6
  },
  {
   "metadata": {
    "ExecuteTime": {
     "end_time": "2025-10-23T08:09:10.215344Z",
     "start_time": "2025-10-23T08:09:10.209843Z"
    }
   },
   "cell_type": "code",
   "source": "type(d)",
   "id": "3640dbb27959344f",
   "outputs": [
    {
     "data": {
      "text/plain": [
       "dict"
      ]
     },
     "execution_count": 7,
     "metadata": {},
     "output_type": "execute_result"
    }
   ],
   "execution_count": 7
  },
  {
   "metadata": {
    "ExecuteTime": {
     "end_time": "2025-10-23T08:10:25.883385Z",
     "start_time": "2025-10-23T08:10:25.873921Z"
    }
   },
   "cell_type": "code",
   "source": [
    "#ensure annotations\n",
    "\n",
    "def get_predict(x:int ,y:int )->int:\n",
    "    return x*y\n",
    "\n"
   ],
   "id": "e9c359106c4f545c",
   "outputs": [],
   "execution_count": 8
  },
  {
   "metadata": {
    "ExecuteTime": {
     "end_time": "2025-10-23T08:10:40.154880Z",
     "start_time": "2025-10-23T08:10:40.149584Z"
    }
   },
   "cell_type": "code",
   "source": "get_predict(7,7)",
   "id": "7d1813a8aa4ecbc2",
   "outputs": [
    {
     "data": {
      "text/plain": [
       "49"
      ]
     },
     "execution_count": 10,
     "metadata": {},
     "output_type": "execute_result"
    }
   ],
   "execution_count": 10
  },
  {
   "metadata": {
    "ExecuteTime": {
     "end_time": "2025-10-23T08:11:23.601681Z",
     "start_time": "2025-10-23T08:11:23.595256Z"
    }
   },
   "cell_type": "code",
   "source": "get_predict(2,\"3\")",
   "id": "96266a8e297ca705",
   "outputs": [
    {
     "data": {
      "text/plain": [
       "'33'"
      ]
     },
     "execution_count": 12,
     "metadata": {},
     "output_type": "execute_result"
    }
   ],
   "execution_count": 12
  },
  {
   "metadata": {
    "ExecuteTime": {
     "end_time": "2025-10-23T08:12:36.347336Z",
     "start_time": "2025-10-23T08:12:36.081496Z"
    }
   },
   "cell_type": "code",
   "source": "from ensure import ensure_annotations",
   "id": "3736b480bf8e17c7",
   "outputs": [],
   "execution_count": 14
  },
  {
   "metadata": {
    "ExecuteTime": {
     "end_time": "2025-10-23T08:12:57.852549Z",
     "start_time": "2025-10-23T08:12:57.848414Z"
    }
   },
   "cell_type": "code",
   "source": [
    "@ensure_annotations\n",
    "\n",
    "def get_predict(x:int ,y:int )->int:\n",
    "    return x*y\n"
   ],
   "id": "56037001bf1c6249",
   "outputs": [],
   "execution_count": 15
  },
  {
   "metadata": {
    "ExecuteTime": {
     "end_time": "2025-10-23T08:13:05.012974Z",
     "start_time": "2025-10-23T08:13:05.007975Z"
    }
   },
   "cell_type": "code",
   "source": "get_predict(7,7)",
   "id": "50b6edd830891e0b",
   "outputs": [
    {
     "data": {
      "text/plain": [
       "49"
      ]
     },
     "execution_count": 16,
     "metadata": {},
     "output_type": "execute_result"
    }
   ],
   "execution_count": 16
  },
  {
   "metadata": {
    "ExecuteTime": {
     "end_time": "2025-10-23T08:13:10.309914Z",
     "start_time": "2025-10-23T08:13:10.219411Z"
    }
   },
   "cell_type": "code",
   "source": "get_predict(2,\"3\")",
   "id": "b38489c9caa09f28",
   "outputs": [
    {
     "ename": "EnsureError",
     "evalue": "Argument y of type <class 'str'> to <function get_predict at 0x0000022269CAC680> does not match annotation type <class 'int'>",
     "output_type": "error",
     "traceback": [
      "\u001B[31m---------------------------------------------------------------------------\u001B[39m",
      "\u001B[31mEnsureError\u001B[39m                               Traceback (most recent call last)",
      "\u001B[36mCell\u001B[39m\u001B[36m \u001B[39m\u001B[32mIn[17]\u001B[39m\u001B[32m, line 1\u001B[39m\n\u001B[32m----> \u001B[39m\u001B[32m1\u001B[39m \u001B[43mget_predict\u001B[49m\u001B[43m(\u001B[49m\u001B[32;43m2\u001B[39;49m\u001B[43m,\u001B[49m\u001B[33;43m\"\u001B[39;49m\u001B[33;43m3\u001B[39;49m\u001B[33;43m\"\u001B[39;49m\u001B[43m)\u001B[49m\n",
      "\u001B[36mFile \u001B[39m\u001B[32m~\\AppData\\Local\\Packages\\PythonSoftwareFoundation.Python.3.13_qbz5n2kfra8p0\\LocalCache\\local-packages\\Python313\\site-packages\\ensure\\main.py:870\u001B[39m, in \u001B[36mWrappedFunctionReturn.__call__\u001B[39m\u001B[34m(self, *args, **kwargs)\u001B[39m\n\u001B[32m    868\u001B[39m     \u001B[38;5;28;01mif\u001B[39;00m \u001B[38;5;129;01mnot\u001B[39;00m \u001B[38;5;28misinstance\u001B[39m(value, templ):\n\u001B[32m    869\u001B[39m         msg = \u001B[33m\"\u001B[39m\u001B[33mArgument \u001B[39m\u001B[38;5;132;01m{arg}\u001B[39;00m\u001B[33m of type \u001B[39m\u001B[38;5;132;01m{valt}\u001B[39;00m\u001B[33m to \u001B[39m\u001B[38;5;132;01m{f}\u001B[39;00m\u001B[33m \u001B[39m\u001B[33m\"\u001B[39m \u001B[33m\"\u001B[39m\u001B[33mdoes not match annotation type \u001B[39m\u001B[38;5;132;01m{t}\u001B[39;00m\u001B[33m\"\u001B[39m\n\u001B[32m--> \u001B[39m\u001B[32m870\u001B[39m         \u001B[38;5;28;01mraise\u001B[39;00m EnsureError(msg.format(arg=arg, f=\u001B[38;5;28mself\u001B[39m.f, t=templ, valt=\u001B[38;5;28mtype\u001B[39m(value)))\n\u001B[32m    872\u001B[39m return_val = \u001B[38;5;28mself\u001B[39m.f(*args, **kwargs)\n\u001B[32m    873\u001B[39m \u001B[38;5;28;01mif\u001B[39;00m \u001B[38;5;129;01mnot\u001B[39;00m \u001B[38;5;28misinstance\u001B[39m(return_val, \u001B[38;5;28mself\u001B[39m.return_templ):\n",
      "\u001B[31mEnsureError\u001B[39m: Argument y of type <class 'str'> to <function get_predict at 0x0000022269CAC680> does not match annotation type <class 'int'>"
     ]
    }
   ],
   "execution_count": 17
  }
 ],
 "metadata": {},
 "nbformat": 4,
 "nbformat_minor": 5
}
